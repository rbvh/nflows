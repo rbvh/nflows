{
 "metadata": {
  "language_info": {
   "codemirror_mode": {
    "name": "ipython",
    "version": 3
   },
   "file_extension": ".py",
   "mimetype": "text/x-python",
   "name": "python",
   "nbconvert_exporter": "python",
   "pygments_lexer": "ipython3",
   "version": "3.8.4-final"
  },
  "orig_nbformat": 2,
  "kernelspec": {
   "name": "python_defaultSpec_1599574289946",
   "display_name": "Python 3.8.4 64-bit"
  }
 },
 "nbformat": 4,
 "nbformat_minor": 2,
 "cells": [
  {
   "cell_type": "code",
   "execution_count": 2,
   "metadata": {},
   "outputs": [],
   "source": [
    "import math as m\n",
    "import numpy as np\n",
    "import random as r\n",
    "import matplotlib.pyplot as plt\n",
    "import sklearn.datasets as datasets"
   ]
  },
  {
   "cell_type": "code",
   "execution_count": 4,
   "metadata": {},
   "outputs": [],
   "source": [
    "import torch\n",
    "from torch import nn\n",
    "from torch import optim"
   ]
  },
  {
   "cell_type": "code",
   "execution_count": 6,
   "metadata": {},
   "outputs": [],
   "source": [
    "from nflows.flows.base import Flow\n",
    "from nflows.distributions.uniform import BoxUniform\n",
    "from nflows.transforms.base import CompositeTransform\n",
    "from nflows.transforms.autoregressive import MaskedPiecewiseRationalQuadraticAutoregressiveTransform\n",
    "from nflows.transforms.autoregressive import MaskedPiecewiseQuadraticAutoregressiveTransform\n",
    "from nflows.transforms.permutations import ReversePermutation\n",
    "from nflows.transforms.splines.rational_quadratic import rational_quadratic_spline\n",
    "from nflows.transforms.dequantization import UniformDequantization\n",
    "from nflows.transforms.dequantization import VariationalDequantization"
   ]
  },
  {
   "cell_type": "code",
   "execution_count": 7,
   "metadata": {},
   "outputs": [],
   "source": [
    "from nflows.distributions.normal import ConditionalDiagonalNormal\n",
    "from nflows.distributions.normal import StandardNormal\n",
    "from nflows.distributions.uniform import BoxUniform\n",
    "from nflows.transforms.autoregressive import MaskedAffineAutoregressiveTransform"
   ]
  },
  {
   "cell_type": "code",
   "execution_count": 8,
   "metadata": {},
   "outputs": [],
   "source": [
    "# Generate some dist with 2 real and 2 discrete dims\n",
    "\n",
    "# These are the probabilities to draw a particular label\n",
    "x_prob_1 = np.random.rand(10)\n",
    "x_prob_2 = np.random.rand(5)\n",
    "p_labels_1 = x_prob_1/(np.sum(x_prob_1))\n",
    "p_labels_2 = x_prob_2/(np.sum(x_prob_2))\n",
    "p_cum_labels_1 = np.cumsum(p_labels_1)\n",
    "p_cum_labels_2 = np.cumsum(p_labels_2)\n",
    "\n",
    "def p(x,y):\n",
    "    if np.all(x > 0) and np.all(x < 1) and x.shape == y.shape:\n",
    "        return m.exp(-(x[0] + x[1])/2) * np.cos((x[0]*y[0] + x[1]*y[1])*m.pi)\n",
    "    return 0\n",
    "\n",
    "def generate(n):\n",
    "    x = np.zeros((n,4))\n",
    "\n",
    "    counter = 0\n",
    "    while(counter < n):\n",
    "        y = np.zeros(2)\n",
    "        y[0] = np.argmax(r.random() < p_cum_labels_1)\n",
    "        y[1] = np.argmax(r.random() < p_cum_labels_2)\n",
    "\n",
    "        while(True):\n",
    "            # Get a point\n",
    "            x_trial = np.random.rand(2)\n",
    "            if r.random() < p(x_trial, y):\n",
    "                x[counter][0] = x_trial[0]\n",
    "                x[counter][1] = x_trial[1]\n",
    "                x[counter][2] = y[0]\n",
    "                x[counter][3] = y[1]\n",
    "                counter += 1\n",
    "                break\n",
    "\n",
    "    return x"
   ]
  },
  {
   "cell_type": "code",
   "execution_count": 9,
   "metadata": {
    "tags": []
   },
   "outputs": [],
   "source": [
    "vardeq = VariationalDequantization(max_labels=torch.tensor([-1,-1,9,4]), rqs_hidden_features=15, rqs_flow_layers=1)"
   ]
  },
  {
   "cell_type": "code",
   "execution_count": 10,
   "metadata": {
    "tags": []
   },
   "outputs": [],
   "source": [
    "x_test = torch.tensor(generate(10), dtype=torch.float32)"
   ]
  },
  {
   "cell_type": "code",
   "execution_count": 11,
   "metadata": {
    "tags": []
   },
   "outputs": [
    {
     "output_type": "stream",
     "name": "stdout",
     "text": "derivs tensor(0.5644) tensor(1.0157)\nwhat tensor(1.0147)\nderivs tensor(0.5644) tensor(1.0157)\nwhat tensor(1.0147)\n"
    }
   ],
   "source": [
    "x_forward, llh_forward = vardeq.forward(x_test)"
   ]
  },
  {
   "cell_type": "code",
   "execution_count": 12,
   "metadata": {
    "tags": []
   },
   "outputs": [
    {
     "output_type": "stream",
     "name": "stdout",
     "text": "tensor([[0.4823, 0.6992],\n        [0.3941, 0.1129],\n        [0.9702, 0.1847],\n        [0.0718, 0.7597],\n        [0.2705, 0.2407],\n        [0.5501, 0.0097],\n        [0.5447, 0.8463],\n        [0.9689, 0.0555],\n        [0.9394, 0.2060],\n        [0.9075, 0.6193]])\ntorch.Size([10, 4])\nderivs tensor(0.5644) tensor(1.0157)\nwhat tensor(1.0147)\n"
    }
   ],
   "source": [
    "x_inverse, llh_inverse = vardeq.inverse(x_forward)"
   ]
  },
  {
   "cell_type": "code",
   "execution_count": 13,
   "metadata": {},
   "outputs": [
    {
     "output_type": "execute_result",
     "data": {
      "text/plain": "tensor([[0.3638, 0.0900, 4.0000, 3.0000],\n        [0.6305, 0.7375, 3.0000, 0.0000],\n        [0.4686, 0.4766, 9.0000, 0.0000],\n        [0.4981, 0.1276, 0.0000, 3.0000],\n        [0.7681, 0.3206, 2.0000, 1.0000],\n        [0.0400, 0.5088, 5.0000, 0.0000],\n        [0.2186, 0.7807, 5.0000, 4.0000],\n        [0.1841, 0.4129, 9.0000, 0.0000],\n        [0.6080, 0.5518, 9.0000, 1.0000],\n        [0.6679, 0.7004, 9.0000, 3.0000]])"
     },
     "metadata": {},
     "execution_count": 13
    }
   ],
   "source": [
    "x_test"
   ]
  },
  {
   "cell_type": "code",
   "execution_count": 14,
   "metadata": {},
   "outputs": [
    {
     "output_type": "execute_result",
     "data": {
      "text/plain": "tensor([[0.3638, 0.0900, 4.0000, 3.0000],\n        [0.6305, 0.7375, 3.0000, 0.0000],\n        [0.4686, 0.4766, 9.0000, 0.0000],\n        [0.4981, 0.1276, 0.0000, 3.0000],\n        [0.7681, 0.3206, 2.0000, 1.0000],\n        [0.0400, 0.5088, 5.0000, 0.0000],\n        [0.2186, 0.7807, 5.0000, 4.0000],\n        [0.1841, 0.4129, 9.0000, 0.0000],\n        [0.6080, 0.5518, 9.0000, 1.0000],\n        [0.6679, 0.7004, 9.0000, 3.0000]])"
     },
     "metadata": {},
     "execution_count": 14
    }
   ],
   "source": [
    "x_inverse"
   ]
  },
  {
   "cell_type": "code",
   "execution_count": 15,
   "metadata": {},
   "outputs": [
    {
     "output_type": "execute_result",
     "data": {
      "text/plain": "array([[0.98914516],\n       [1.0129949 ],\n       [0.98784626],\n       [0.9839106 ],\n       [0.9771976 ],\n       [0.99293524],\n       [1.0124247 ],\n       [0.99451196],\n       [0.9941572 ],\n       [0.98960286]], dtype=float32)"
     },
     "metadata": {},
     "execution_count": 15
    }
   ],
   "source": [
    "np.exp(llh_forward.detach().numpy())"
   ]
  },
  {
   "cell_type": "code",
   "execution_count": 16,
   "metadata": {},
   "outputs": [
    {
     "output_type": "execute_result",
     "data": {
      "text/plain": "array([[1.0168296 ],\n       [1.0155218 ],\n       [0.99945664],\n       [0.98976994],\n       [0.9891932 ],\n       [0.99958265],\n       [0.98490906],\n       [0.9880851 ],\n       [1.0035509 ],\n       [1.010094  ]], dtype=float32)"
     },
     "metadata": {},
     "execution_count": 16
    }
   ],
   "source": [
    "np.exp(llh_inverse.detach().numpy())"
   ]
  },
  {
   "cell_type": "code",
   "execution_count": 17,
   "metadata": {},
   "outputs": [
    {
     "output_type": "execute_result",
     "data": {
      "text/plain": "'\\nx_plot = generate(1000000)\\nx_select_1 = x_plot[x_plot[:,2] == 7]\\nx_select_2 = x_select_1[x_select_1[:,3] == 3]\\nplt.hist2d(x_select_2[:,0], x_select_2[:,1], bins=25)\\nplt.show()\\n'"
     },
     "metadata": {},
     "execution_count": 17
    }
   ],
   "source": [
    "'''\n",
    "x_plot = generate(1000000)\n",
    "x_select_1 = x_plot[x_plot[:,2] == 7]\n",
    "x_select_2 = x_select_1[x_select_1[:,3] == 3]\n",
    "plt.hist2d(x_select_2[:,0], x_select_2[:,1], bins=25)\n",
    "plt.show()\n",
    "'''"
   ]
  }
 ]
}