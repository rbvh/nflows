{
 "cells": [
  {
   "cell_type": "code",
   "execution_count": 1,
   "metadata": {},
   "outputs": [],
   "source": [
    "import math as m\n",
    "import numpy as np\n",
    "import random as r\n",
    "import matplotlib.pyplot as plt"
   ]
  },
  {
   "cell_type": "code",
   "execution_count": 2,
   "metadata": {},
   "outputs": [],
   "source": [
    "import torch\n",
    "from torch import nn\n",
    "from torch import optim"
   ]
  },
  {
   "cell_type": "code",
   "execution_count": 3,
   "metadata": {},
   "outputs": [],
   "source": [
    "from nflows.distributions.uniform import BoxUniform\n",
    "from nflows.transforms.base import CompositeTransform\n",
    "from nflows.flows.base import Flow\n",
    "from nflows.transforms.dropout import UniformStochasticDropout\n",
    "from nflows.transforms.dropout import VariationalStochasticDropout\n",
    "from nflows.transforms.permutations import RandomPermutation\n",
    "from nflows.transforms.autoregressive import MaskedPiecewiseRationalQuadraticAutoregressiveTransform"
   ]
  },
  {
   "cell_type": "code",
   "execution_count": 4,
   "metadata": {},
   "outputs": [],
   "source": [
    "device = torch.device(\"cuda:0\")\n",
    "#device = torch.device(\"cpu\")"
   ]
  },
  {
   "cell_type": "code",
   "execution_count": 5,
   "metadata": {},
   "outputs": [],
   "source": [
    "# This works with any size x\n",
    "def p(x, n_probs):\n",
    "    sums = torch.sum(x, axis=1)\n",
    "    probs = torch.cos(torch.ger(sums, torch.arange(1, n_probs+1, dtype=torch.float32)))**2\n",
    "    norm = torch.sum(probs, axis=1)\n",
    "\n",
    "    for i in range(n_probs):\n",
    "        probs[:,i] /= norm\n",
    "    \n",
    "    return probs"
   ]
  },
  {
   "cell_type": "code",
   "execution_count": 6,
   "metadata": {},
   "outputs": [],
   "source": [
    "def generate(n, drop_indices):\n",
    "    n_probs = torch.max(drop_indices) + 1\n",
    "    x = torch.rand(n, drop_indices.shape[0])\n",
    "    probs = p(x, n_probs)\n",
    "\n",
    "    # Pick a prob\n",
    "    probs_cumsum = torch.cumsum(probs, axis=1)\n",
    "\n",
    "    # Tensor with bools that are true when r passes the cumprob\n",
    "    larger_than_cumprob = torch.rand(n,1) < probs_cumsum\n",
    "    # Do the arange trick to find first nonzero\n",
    "    # This is the HIGHEST LABEL FROM DROP_INDICES THAT IS KEPT\n",
    "    selected_index = torch.argmax(larger_than_cumprob*torch.arange(n_probs, 0, -1), axis=1)\n",
    "\n",
    "    '''\n",
    "    print(\"The index of the selected probability\")\n",
    "    print(\"This is also the highest label in drop_indices that is kept\")\n",
    "    print(selected_index)\n",
    "    ''' \n",
    "    \n",
    "    # Find the index of the first true\n",
    "    drop_mask = drop_indices > selected_index[:,None]\n",
    "    x[drop_mask] = 0\n",
    "    \n",
    "    return x"
   ]
  },
  {
   "cell_type": "code",
   "execution_count": 7,
   "metadata": {},
   "outputs": [],
   "source": [
    "drop_indices = torch.tensor([0,0,1,1,1,2,3,3,4])\n",
    "n_data = int(1e6)\n",
    "x_data = generate(n_data, drop_indices).to(device)"
   ]
  },
  {
   "cell_type": "code",
   "execution_count": 8,
   "metadata": {},
   "outputs": [],
   "source": [
    "num_layers = 6\n",
    "base_dist_uniform = BoxUniform(torch.zeros(drop_indices.shape[0]), torch.ones(drop_indices.shape[0]))\n",
    "base_dist_variational = BoxUniform(torch.zeros(drop_indices.shape[0]), torch.ones(drop_indices.shape[0]))\n",
    "\n",
    "transforms_uniform = []\n",
    "transforms_variational = []\n",
    "\n",
    "transforms_uniform.append(UniformStochasticDropout(drop_indices))\n",
    "transforms_variational.append(VariationalStochasticDropout(drop_indices))\n",
    "\n",
    "for _ in range(num_layers):\n",
    "    transforms_uniform.append(RandomPermutation(features=drop_indices.shape[0]))\n",
    "    transforms_uniform.append(MaskedPiecewiseRationalQuadraticAutoregressiveTransform(\n",
    "        features=drop_indices.shape[0], \n",
    "        hidden_features=50,\n",
    "        num_bins=10,\n",
    "        num_blocks=4,\n",
    "    ))\n",
    "\n",
    "    transforms_variational.append(RandomPermutation(features=drop_indices.shape[0]))\n",
    "    transforms_variational.append(MaskedPiecewiseRationalQuadraticAutoregressiveTransform(\n",
    "        features=drop_indices.shape[0], \n",
    "        hidden_features=50,\n",
    "        num_bins=10,\n",
    "        num_blocks=4,\n",
    "    ))\n",
    "\n",
    "transform_uniform = CompositeTransform(transforms_uniform)\n",
    "transform_variational = CompositeTransform(transforms_variational)\n",
    "\n",
    "flow_uniform = Flow(transform_uniform, base_dist_uniform).to(device)\n",
    "flow_variational = Flow(transform_variational, base_dist_variational).to(device)\n",
    "\n",
    "optimizer_uniform = optim.Adam(flow_uniform.parameters())\n",
    "optimizer_variational = optim.Adam(flow_variational.parameters())"
   ]
  },
  {
   "cell_type": "code",
   "execution_count": 9,
   "metadata": {
    "tags": [
     "outputPrepend"
    ]
   },
   "outputs": [
    {
     "name": "stdout",
     "output_type": "stream",
     "text": [
      "epoch =  0 batch =  1 / 200 loss_uniform =  4.166877746582031  loss_variational =  6.411993503570557\n",
      "epoch =  0 batch =  2 / 200 loss_uniform =  3.9496012926101685  loss_variational =  6.041798114776611\n",
      "epoch =  0 batch =  3 / 200 loss_uniform =  3.8008994261423745  loss_variational =  5.709665616353353\n",
      "epoch =  0 batch =  4 / 200 loss_uniform =  3.6772305965423584  loss_variational =  5.448649525642395\n",
      "epoch =  0 batch =  5 / 200 loss_uniform =  3.562221574783325  loss_variational =  5.228176879882812\n",
      "epoch =  0 batch =  6 / 200 loss_uniform =  3.456188917160034  loss_variational =  5.03629732131958\n",
      "epoch =  0 batch =  7 / 200 loss_uniform =  3.372098582131522  loss_variational =  4.885491779872349\n",
      "epoch =  0 batch =  8 / 200 loss_uniform =  3.299363523721695  loss_variational =  4.747928768396378\n",
      "epoch =  0 batch =  9 / 200 loss_uniform =  3.232446829477946  loss_variational =  4.6353978580898705\n",
      "epoch =  0 batch =  10 / 200 loss_uniform =  3.173026132583618  loss_variational =  4.535141968727112\n",
      "epoch =  0 batch =  11 / 200 loss_uniform =  3.1197651516307485  loss_variational =  4.436746879057451\n",
      "epoch =  0 batch =  12 / 200 loss_uniform =  3.0718409021695456  loss_variational =  4.348375717798869\n",
      "epoch =  0 batch =  13 / 200 loss_uniform =  3.024700770011315  loss_variational =  4.2675816645989055\n",
      "epoch =  0 batch =  14 / 200 loss_uniform =  2.9832058804375783  loss_variational =  4.193049533026559\n",
      "epoch =  0 batch =  15 / 200 loss_uniform =  2.942142105102539  loss_variational =  4.121922302246094\n",
      "epoch =  0 batch =  16 / 200 loss_uniform =  2.9051047563552856  loss_variational =  4.0536274164915085\n",
      "epoch =  0 batch =  17 / 200 loss_uniform =  2.8707465284010945  loss_variational =  3.9910263734705307\n",
      "epoch =  0 batch =  18 / 200 loss_uniform =  2.838014562924703  loss_variational =  3.9305239253573947\n",
      "epoch =  0 batch =  19 / 200 loss_uniform =  2.806032293721249  loss_variational =  3.8725201581653796\n",
      "epoch =  0 batch =  20 / 200 loss_uniform =  2.776127827167511  loss_variational =  3.817534017562866\n",
      "epoch =  0 batch =  21 / 200 loss_uniform =  2.7477639062064037  loss_variational =  3.765264329456148\n",
      "epoch =  0 batch =  22 / 200 loss_uniform =  2.7195282415910205  loss_variational =  3.714343623681502\n",
      "epoch =  0 batch =  23 / 200 loss_uniform =  2.6940339648205303  loss_variational =  3.669504051623137\n",
      "epoch =  0 batch =  24 / 200 loss_uniform =  2.669433722893397  loss_variational =  3.623550077279409\n",
      "epoch =  0 batch =  25 / 200 loss_uniform =  2.645837926864624  loss_variational =  3.5816893100738527\n",
      "epoch =  0 batch =  26 / 200 loss_uniform =  2.623292537835928  loss_variational =  3.541585637972905\n",
      "epoch =  0 batch =  27 / 200 loss_uniform =  2.6019805360723427  loss_variational =  3.502168787850274\n",
      "epoch =  0 batch =  28 / 200 loss_uniform =  2.5807360666138783  loss_variational =  3.463135540485382\n",
      "epoch =  0 batch =  29 / 200 loss_uniform =  2.561817366501381  loss_variational =  3.4270960298077813\n",
      "epoch =  0 batch =  30 / 200 loss_uniform =  2.543000106016795  loss_variational =  3.3930636088053387\n",
      "epoch =  0 batch =  31 / 200 loss_uniform =  2.524181527476157  loss_variational =  3.3582356206832396\n",
      "epoch =  0 batch =  32 / 200 loss_uniform =  2.5063197426497936  loss_variational =  3.3261739537119865\n",
      "epoch =  0 batch =  33 / 200 loss_uniform =  2.4892633539257627  loss_variational =  3.294371648268266\n",
      "epoch =  0 batch =  34 / 200 loss_uniform =  2.472916238448199  loss_variational =  3.263736773939694\n",
      "epoch =  0 batch =  35 / 200 loss_uniform =  2.4571101937975204  loss_variational =  3.2345945971352714\n",
      "epoch =  0 batch =  36 / 200 loss_uniform =  2.442391875717375  loss_variational =  3.205934226512909\n",
      "epoch =  0 batch =  37 / 200 loss_uniform =  2.427594458734667  loss_variational =  3.178669968166867\n",
      "epoch =  0 batch =  38 / 200 loss_uniform =  2.4134987875034937  loss_variational =  3.1535138268219796\n",
      "epoch =  0 batch =  39 / 200 loss_uniform =  2.3999445316119075  loss_variational =  3.1279148138486423\n",
      "epoch =  0 batch =  40 / 200 loss_uniform =  2.385957044363022  loss_variational =  3.1028876066207887\n",
      "epoch =  0 batch =  41 / 200 loss_uniform =  2.3729184226291937  loss_variational =  3.0789565458530332\n",
      "epoch =  0 batch =  42 / 200 loss_uniform =  2.360594550768534  loss_variational =  3.0556538218543645\n",
      "epoch =  0 batch =  43 / 200 loss_uniform =  2.3485252912654433  loss_variational =  3.0335775974184966\n",
      "epoch =  0 batch =  44 / 200 loss_uniform =  2.3367940702221612  loss_variational =  3.011682467027144\n",
      "epoch =  0 batch =  45 / 200 loss_uniform =  2.3251153548558556  loss_variational =  2.9903590467241075\n",
      "epoch =  0 batch =  46 / 200 loss_uniform =  2.314090114572774  loss_variational =  2.969556979511095\n",
      "epoch =  0 batch =  47 / 200 loss_uniform =  2.303571888741027  loss_variational =  2.9497429665098798\n",
      "epoch =  0 batch =  48 / 200 loss_uniform =  2.2933757280309996  loss_variational =  2.9301348527272544\n",
      "epoch =  0 batch =  49 / 200 loss_uniform =  2.2831143432733962  loss_variational =  2.910944658882764\n",
      "epoch =  0 batch =  50 / 200 loss_uniform =  2.2738021755218503  loss_variational =  2.89237685918808\n",
      "epoch =  0 batch =  51 / 200 loss_uniform =  2.2643168533549587  loss_variational =  2.874447263923346\n",
      "epoch =  0 batch =  52 / 200 loss_uniform =  2.255072093926943  loss_variational =  2.8572087448376875\n",
      "epoch =  0 batch =  53 / 200 loss_uniform =  2.2462791856729756  loss_variational =  2.8400208365242436\n",
      "epoch =  0 batch =  54 / 200 loss_uniform =  2.2377013652412976  loss_variational =  2.8233833335064076\n",
      "epoch =  0 batch =  55 / 200 loss_uniform =  2.229127311706543  loss_variational =  2.8070273724469272\n",
      "epoch =  0 batch =  56 / 200 loss_uniform =  2.2208226834024702  loss_variational =  2.7914304499115263\n",
      "epoch =  0 batch =  57 / 200 loss_uniform =  2.2128840622149015  loss_variational =  2.7758563610545375\n",
      "epoch =  0 batch =  58 / 200 loss_uniform =  2.2051761355893365  loss_variational =  2.7607522627403\n",
      "epoch =  0 batch =  59 / 200 loss_uniform =  2.1977634773416033  loss_variational =  2.746469572439032\n",
      "epoch =  0 batch =  60 / 200 loss_uniform =  2.190366494655609  loss_variational =  2.731990651289622\n",
      "epoch =  0 batch =  61 / 200 loss_uniform =  2.1832700361970994  loss_variational =  2.718253137635403\n",
      "epoch =  0 batch =  62 / 200 loss_uniform =  2.1762452894641506  loss_variational =  2.704650617414905\n",
      "epoch =  0 batch =  63 / 200 loss_uniform =  2.1695029811253623  loss_variational =  2.6914765494210378\n",
      "epoch =  0 batch =  64 / 200 loss_uniform =  2.1628240887075663  loss_variational =  2.6787039563059807\n",
      "epoch =  0 batch =  65 / 200 loss_uniform =  2.156483320089487  loss_variational =  2.6658987742203935\n",
      "epoch =  0 batch =  66 / 200 loss_uniform =  2.150157032590924  loss_variational =  2.653528150283929\n",
      "epoch =  0 batch =  67 / 200 loss_uniform =  2.143903970718384  loss_variational =  2.6415718580359844\n",
      "epoch =  0 batch =  68 / 200 loss_uniform =  2.137678077992271  loss_variational =  2.6297357082366943\n",
      "epoch =  0 batch =  69 / 200 loss_uniform =  2.1317601342132124  loss_variational =  2.6184748981309975\n",
      "epoch =  0 batch =  70 / 200 loss_uniform =  2.125874286038535  loss_variational =  2.6073723435401917\n",
      "epoch =  0 batch =  71 / 200 loss_uniform =  2.1201301275844306  loss_variational =  2.596557200794489\n",
      "epoch =  0 batch =  72 / 200 loss_uniform =  2.1145471566253238  loss_variational =  2.5861491461594905\n",
      "epoch =  0 batch =  73 / 200 loss_uniform =  2.109261873650224  loss_variational =  2.575844978632993\n",
      "epoch =  0 batch =  74 / 200 loss_uniform =  2.104007695172284  loss_variational =  2.5655254383344914\n",
      "epoch =  0 batch =  75 / 200 loss_uniform =  2.098918458620707  loss_variational =  2.5555760002136236\n",
      "epoch =  0 batch =  76 / 200 loss_uniform =  2.0936956389954218  loss_variational =  2.545635066534344\n",
      "epoch =  0 batch =  77 / 200 loss_uniform =  2.0888491977344863  loss_variational =  2.5360629125074916\n",
      "epoch =  0 batch =  78 / 200 loss_uniform =  2.083963505732708  loss_variational =  2.526608474743673\n",
      "epoch =  0 batch =  79 / 200 loss_uniform =  2.0791780420496497  loss_variational =  2.5174865752835824\n",
      "epoch =  0 batch =  80 / 200 loss_uniform =  2.0745173469185834  loss_variational =  2.508621527254582\n"
     ]
    },
    {
     "name": "stdout",
     "output_type": "stream",
     "text": [
      "epoch =  0 batch =  81 / 200 loss_uniform =  2.0699156655205626  loss_variational =  2.4999493566560163\n",
      "epoch =  0 batch =  82 / 200 loss_uniform =  2.0655606679800087  loss_variational =  2.4912930596165546\n",
      "epoch =  0 batch =  83 / 200 loss_uniform =  2.061139913926642  loss_variational =  2.4827391900211935\n",
      "epoch =  0 batch =  84 / 200 loss_uniform =  2.0567798032647095  loss_variational =  2.474504758914312\n",
      "epoch =  0 batch =  85 / 200 loss_uniform =  2.052586113705355  loss_variational =  2.466499045315911\n",
      "epoch =  0 batch =  86 / 200 loss_uniform =  2.048406768676847  loss_variational =  2.4586029025011285\n",
      "epoch =  0 batch =  87 / 200 loss_uniform =  2.044346206489651  loss_variational =  2.4507215201169594\n",
      "epoch =  0 batch =  88 / 200 loss_uniform =  2.0404724654826256  loss_variational =  2.442928052761338\n",
      "epoch =  0 batch =  89 / 200 loss_uniform =  2.0366057036967766  loss_variational =  2.4352635346101916\n",
      "epoch =  0 batch =  90 / 200 loss_uniform =  2.032870475451152  loss_variational =  2.4279399977789993\n",
      "epoch =  0 batch =  91 / 200 loss_uniform =  2.0291968060063796  loss_variational =  2.4205808272728557\n",
      "epoch =  0 batch =  92 / 200 loss_uniform =  2.0254591910735424  loss_variational =  2.4134910404682164\n",
      "epoch =  0 batch =  93 / 200 loss_uniform =  2.02195030643094  loss_variational =  2.4064952814450833\n",
      "epoch =  0 batch =  94 / 200 loss_uniform =  2.0184235205041605  loss_variational =  2.399572761768991\n",
      "epoch =  0 batch =  95 / 200 loss_uniform =  2.014963205237138  loss_variational =  2.392902497241372\n",
      "epoch =  0 batch =  96 / 200 loss_uniform =  2.0115549291173616  loss_variational =  2.386212726434072\n",
      "epoch =  0 batch =  97 / 200 loss_uniform =  2.0081452106692126  loss_variational =  2.3798750565224087\n",
      "epoch =  0 batch =  98 / 200 loss_uniform =  2.0049015088957183  loss_variational =  2.3734468769054025\n",
      "epoch =  0 batch =  99 / 200 loss_uniform =  2.0016150895995324  loss_variational =  2.3671969223504115\n",
      "epoch =  0 batch =  100 / 200 loss_uniform =  1.9985311663150787  loss_variational =  2.3610550701618194\n",
      "epoch =  0 batch =  101 / 200 loss_uniform =  1.9954647026439705  loss_variational =  2.3549858886416595\n",
      "epoch =  0 batch =  102 / 200 loss_uniform =  1.992379460849014  loss_variational =  2.3489817836705376\n",
      "epoch =  0 batch =  103 / 200 loss_uniform =  1.9894137845456021  loss_variational =  2.3431228619177364\n",
      "epoch =  0 batch =  104 / 200 loss_uniform =  1.9864869427222471  loss_variational =  2.3372314537946997\n",
      "epoch =  0 batch =  105 / 200 loss_uniform =  1.9836070832752046  loss_variational =  2.3315955786477955\n",
      "epoch =  0 batch =  106 / 200 loss_uniform =  1.9806685323985118  loss_variational =  2.326030808799672\n",
      "epoch =  0 batch =  107 / 200 loss_uniform =  1.977835651870086  loss_variational =  2.320486699309305\n",
      "epoch =  0 batch =  108 / 200 loss_uniform =  1.9750299100522641  loss_variational =  2.3151940780657316\n",
      "epoch =  0 batch =  109 / 200 loss_uniform =  1.9722213909166668  loss_variational =  2.3098904178776882\n",
      "epoch =  0 batch =  110 / 200 loss_uniform =  1.9694866527210582  loss_variational =  2.304749747839842\n",
      "epoch =  0 batch =  111 / 200 loss_uniform =  1.966790140212119  loss_variational =  2.299483984440298\n",
      "epoch =  0 batch =  112 / 200 loss_uniform =  1.9641475134662219  loss_variational =  2.2943938076496138\n",
      "epoch =  0 batch =  113 / 200 loss_uniform =  1.9615957241142745  loss_variational =  2.289504294901824\n",
      "epoch =  0 batch =  114 / 200 loss_uniform =  1.9590932705946136  loss_variational =  2.284496152610111\n",
      "epoch =  0 batch =  115 / 200 loss_uniform =  1.9565638604371445  loss_variational =  2.2796627873959765\n",
      "epoch =  0 batch =  116 / 200 loss_uniform =  1.9540707212069939  loss_variational =  2.274873930832437\n",
      "epoch =  0 batch =  117 / 200 loss_uniform =  1.9515936537685556  loss_variational =  2.2702368681247433\n",
      "epoch =  0 batch =  118 / 200 loss_uniform =  1.9492115186432661  loss_variational =  2.2656875091083992\n",
      "epoch =  0 batch =  119 / 200 loss_uniform =  1.9469216480976392  loss_variational =  2.2611389200226615\n",
      "epoch =  0 batch =  120 / 200 loss_uniform =  1.9445388744274774  loss_variational =  2.2566756993532193\n",
      "epoch =  0 batch =  121 / 200 loss_uniform =  1.9422271182714415  loss_variational =  2.2521280404949993\n",
      "epoch =  0 batch =  122 / 200 loss_uniform =  1.939965582284771  loss_variational =  2.2477841465199595\n",
      "epoch =  0 batch =  123 / 200 loss_uniform =  1.937802100569252  loss_variational =  2.2435705429170203\n",
      "epoch =  0 batch =  124 / 200 loss_uniform =  1.9355275207950222  loss_variational =  2.2392525249911905\n",
      "epoch =  0 batch =  125 / 200 loss_uniform =  1.9333824939727784  loss_variational =  2.23512108898163\n",
      "epoch =  0 batch =  126 / 200 loss_uniform =  1.9312830728197854  loss_variational =  2.230927459777349\n",
      "epoch =  0 batch =  127 / 200 loss_uniform =  1.929092961972154  loss_variational =  2.226886802770961\n",
      "epoch =  0 batch =  128 / 200 loss_uniform =  1.9270178498700261  loss_variational =  2.2230002144351615\n",
      "epoch =  0 batch =  129 / 200 loss_uniform =  1.9249682777611785  loss_variational =  2.2189871553302747\n",
      "epoch =  0 batch =  130 / 200 loss_uniform =  1.9230335510694063  loss_variational =  2.2150736304429874\n",
      "epoch =  0 batch =  131 / 200 loss_uniform =  1.9210656298935869  loss_variational =  2.2113106578361\n",
      "epoch =  0 batch =  132 / 200 loss_uniform =  1.9190330297657938  loss_variational =  2.207541319456969\n",
      "epoch =  0 batch =  133 / 200 loss_uniform =  1.9170572847351992  loss_variational =  2.203719524512615\n",
      "epoch =  0 batch =  134 / 200 loss_uniform =  1.9150833905632816  loss_variational =  2.2000159354352253\n",
      "epoch =  0 batch =  135 / 200 loss_uniform =  1.9131527838883577  loss_variational =  2.1964025665212574\n",
      "epoch =  0 batch =  136 / 200 loss_uniform =  1.9113146198146485  loss_variational =  2.1927783690831255\n",
      "epoch =  0 batch =  137 / 200 loss_uniform =  1.9094888041489315  loss_variational =  2.1892082499761667\n",
      "epoch =  0 batch =  138 / 200 loss_uniform =  1.9077029902002085  loss_variational =  2.185716769833497\n",
      "epoch =  0 batch =  139 / 200 loss_uniform =  1.9059152585997  loss_variational =  2.182256710615091\n",
      "epoch =  0 batch =  140 / 200 loss_uniform =  1.9041554382869175  loss_variational =  2.178887494121281\n",
      "epoch =  0 batch =  141 / 200 loss_uniform =  1.9024736923528902  loss_variational =  2.175552628564498\n",
      "epoch =  0 batch =  142 / 200 loss_uniform =  1.9007956368822447  loss_variational =  2.172226875600682\n",
      "epoch =  0 batch =  143 / 200 loss_uniform =  1.8990485984962304  loss_variational =  2.168994266670069\n",
      "epoch =  0 batch =  144 / 200 loss_uniform =  1.8974088099267747  loss_variational =  2.165700578027303\n",
      "epoch =  0 batch =  145 / 200 loss_uniform =  1.89573822185911  loss_variational =  2.1625897415753084\n",
      "epoch =  0 batch =  146 / 200 loss_uniform =  1.894095435534438  loss_variational =  2.159404834655868\n",
      "epoch =  0 batch =  147 / 200 loss_uniform =  1.8924914444384933  loss_variational =  2.1562887235563646\n",
      "epoch =  0 batch =  148 / 200 loss_uniform =  1.890873600502272  loss_variational =  2.1532063975527493\n",
      "epoch =  0 batch =  149 / 200 loss_uniform =  1.8892987670514407  loss_variational =  2.1502206085512316\n",
      "epoch =  0 batch =  150 / 200 loss_uniform =  1.8876771529515584  loss_variational =  2.1472248236338314\n",
      "epoch =  0 batch =  151 / 200 loss_uniform =  1.8860823484446039  loss_variational =  2.1442488534561073\n",
      "epoch =  0 batch =  152 / 200 loss_uniform =  1.8845708550591218  loss_variational =  2.141337355500775\n",
      "epoch =  0 batch =  153 / 200 loss_uniform =  1.8830050424812665  loss_variational =  2.138417495621577\n",
      "epoch =  0 batch =  154 / 200 loss_uniform =  1.8814908784705322  loss_variational =  2.135609013693675\n",
      "epoch =  0 batch =  155 / 200 loss_uniform =  1.8799830359797325  loss_variational =  2.1328113440544394\n",
      "epoch =  0 batch =  156 / 200 loss_uniform =  1.8784940892305129  loss_variational =  2.130002717177075\n",
      "epoch =  0 batch =  157 / 200 loss_uniform =  1.87703552063863  loss_variational =  2.1272425704700946\n",
      "epoch =  0 batch =  158 / 200 loss_uniform =  1.8755827689472633  loss_variational =  2.124449847619746\n",
      "epoch =  0 batch =  159 / 200 loss_uniform =  1.8740895619182467  loss_variational =  2.1217483731935625\n",
      "epoch =  0 batch =  160 / 200 loss_uniform =  1.872720181196928  loss_variational =  2.119081708043815\n"
     ]
    },
    {
     "name": "stdout",
     "output_type": "stream",
     "text": [
      "epoch =  0 batch =  161 / 200 loss_uniform =  1.8713546199087772  loss_variational =  2.116466291202523\n",
      "epoch =  0 batch =  162 / 200 loss_uniform =  1.8700165579348436  loss_variational =  2.1138594584700514\n",
      "epoch =  0 batch =  163 / 200 loss_uniform =  1.8686761139360673  loss_variational =  2.1112803330450713\n",
      "epoch =  0 batch =  164 / 200 loss_uniform =  1.867323629739808  loss_variational =  2.1086979166763595\n",
      "epoch =  0 batch =  165 / 200 loss_uniform =  1.8660795898148508  loss_variational =  2.1061269911852762\n",
      "epoch =  0 batch =  166 / 200 loss_uniform =  1.8647763463388007  loss_variational =  2.1035711923277534\n",
      "epoch =  0 batch =  167 / 200 loss_uniform =  1.8635079739336482  loss_variational =  2.1011426277503293\n",
      "epoch =  0 batch =  168 / 200 loss_uniform =  1.8622231767291115  loss_variational =  2.0986766162372783\n",
      "epoch =  0 batch =  169 / 200 loss_uniform =  1.8609519054198407  loss_variational =  2.0962427988560255\n",
      "epoch =  0 batch =  170 / 200 loss_uniform =  1.8596722455585704  loss_variational =  2.0938157993204465\n",
      "epoch =  0 batch =  171 / 200 loss_uniform =  1.8584412866168551  loss_variational =  2.0914442016367336\n",
      "epoch =  0 batch =  172 / 200 loss_uniform =  1.8572305974572203  loss_variational =  2.089060212290565\n",
      "epoch =  0 batch =  173 / 200 loss_uniform =  1.855987002394792  loss_variational =  2.086744562738893\n",
      "epoch =  0 batch =  174 / 200 loss_uniform =  1.8548019487282326  loss_variational =  2.0843809096292523\n",
      "epoch =  0 batch =  175 / 200 loss_uniform =  1.8536540467398508  loss_variational =  2.0821138688496186\n",
      "epoch =  0 batch =  176 / 200 loss_uniform =  1.8524888902902603  loss_variational =  2.0798345594243575\n",
      "epoch =  0 batch =  177 / 200 loss_uniform =  1.851293223052375  loss_variational =  2.0775964691140563\n",
      "epoch =  0 batch =  178 / 200 loss_uniform =  1.8501745261503069  loss_variational =  2.075468648685499\n",
      "epoch =  0 batch =  179 / 200 loss_uniform =  1.849024405026569  loss_variational =  2.0733256712972126\n",
      "epoch =  0 batch =  180 / 200 loss_uniform =  1.8479240523444282  loss_variational =  2.071213457981746\n",
      "epoch =  0 batch =  181 / 200 loss_uniform =  1.8467916849568404  loss_variational =  2.0690941059786976\n",
      "epoch =  0 batch =  182 / 200 loss_uniform =  1.8456450294662308  loss_variational =  2.0669939622774236\n",
      "epoch =  0 batch =  183 / 200 loss_uniform =  1.8445508024080204  loss_variational =  2.0648681231535204\n",
      "epoch =  0 batch =  184 / 200 loss_uniform =  1.843410541181979  loss_variational =  2.062817626673243\n",
      "epoch =  0 batch =  185 / 200 loss_uniform =  1.8423245868167362  loss_variational =  2.0608132562121835\n",
      "epoch =  0 batch =  186 / 200 loss_uniform =  1.8412451891488926  loss_variational =  2.0588123593279115\n",
      "epoch =  0 batch =  187 / 200 loss_uniform =  1.8402047023416204  loss_variational =  2.0568523234862064\n",
      "epoch =  0 batch =  188 / 200 loss_uniform =  1.839158574317364  loss_variational =  2.054872852056585\n",
      "epoch =  0 batch =  189 / 200 loss_uniform =  1.8380968614860818  loss_variational =  2.052917014354121\n",
      "epoch =  0 batch =  190 / 200 loss_uniform =  1.8370719313621522  loss_variational =  2.0509666882063216\n",
      "epoch =  0 batch =  191 / 200 loss_uniform =  1.8360435070167662  loss_variational =  2.0489938914463783\n",
      "epoch =  0 batch =  192 / 200 loss_uniform =  1.8350237713505824  loss_variational =  2.04710118410488\n",
      "epoch =  0 batch =  193 / 200 loss_uniform =  1.8340652717827515  loss_variational =  2.045249263239648\n",
      "epoch =  0 batch =  194 / 200 loss_uniform =  1.8330754508677216  loss_variational =  2.0434147979795316\n",
      "epoch =  0 batch =  195 / 200 loss_uniform =  1.8320503088144156  loss_variational =  2.0415869266558913\n",
      "epoch =  0 batch =  196 / 200 loss_uniform =  1.8310452991602373  loss_variational =  2.039699120180947\n",
      "epoch =  0 batch =  197 / 200 loss_uniform =  1.8300945256567243  loss_variational =  2.037833171447521\n",
      "epoch =  0 batch =  198 / 200 loss_uniform =  1.8291349164163224  loss_variational =  2.036044518152872\n",
      "epoch =  0 batch =  199 / 200 loss_uniform =  1.828195138193255  loss_variational =  2.0342084492870307\n",
      "epoch =  0 batch =  200 / 200 loss_uniform =  1.8272591495513917  loss_variational =  2.0324803632497783\n"
     ]
    }
   ],
   "source": [
    "n_epochs = 100\n",
    "batch_size = 5000\n",
    "n_batches = m.ceil(x_data.shape[0]/batch_size)\n",
    "\n",
    "for epoch in range(n_epochs):\n",
    "    permutation = torch.randperm(x_data.shape[0], device=device)    \n",
    "\n",
    "    # Loop over batches\n",
    "    cum_loss_uniform = 0\n",
    "    cum_loss_variational = 0\n",
    "    for batch in range(n_batches):\n",
    "        # Set up the batch\n",
    "        batch_begin = batch*batch_size\n",
    "        batch_end   = min( (batch+1)*batch_size, x_data.shape[0]-1 )\n",
    "        indices = permutation[batch_begin:batch_end]\n",
    "        batch_x = x_data[indices]\n",
    "        \n",
    "        # Take a step\n",
    "        optimizer_uniform.zero_grad()\n",
    "        optimizer_variational.zero_grad()\n",
    "\n",
    "        loss_uniform = -flow_uniform.log_prob(inputs=batch_x).mean()\n",
    "        loss_variational = -flow_variational.log_prob(inputs=batch_x).mean()\n",
    "\n",
    "        loss_uniform.backward()\n",
    "        loss_variational.backward()\n",
    "\n",
    "        optimizer_uniform.step()\n",
    "        optimizer_variational.step()\n",
    "\n",
    "        # Compute cumulative loss\n",
    "        cum_loss_uniform = (cum_loss_uniform*batch + loss_uniform.item())/(batch+1)\n",
    "        cum_loss_variational = (cum_loss_variational*batch + loss_variational.item())/(batch+1)\n",
    "\n",
    "        print(\"epoch = \", epoch, \"batch = \",batch+1, \"/\", n_batches, \"loss_uniform = \", cum_loss_uniform, \" loss_variational = \", cum_loss_variational)"
   ]
  },
  {
   "cell_type": "code",
   "execution_count": 10,
   "metadata": {
    "tags": []
   },
   "outputs": [
    {
     "name": "stdout",
     "output_type": "stream",
     "text": [
      "tensor([0.1494, 0.3437, 0.5513, 0.7769, 1.0000], device='cuda:0')\n",
      "tensor([[False, False, False, False,  True],\n",
      "        [False,  True,  True,  True,  True],\n",
      "        [False, False, False, False,  True],\n",
      "        [False, False, False, False,  True],\n",
      "        [ True,  True,  True,  True,  True],\n",
      "        [False, False, False,  True,  True],\n",
      "        [False, False, False, False,  True],\n",
      "        [False, False, False,  True,  True],\n",
      "        [False, False, False,  True,  True],\n",
      "        [False,  True,  True,  True,  True]], device='cuda:0')\n"
     ]
    }
   ],
   "source": [
    "n_sample = 100000\n",
    "with torch.no_grad():\n",
    "    x_uniform = flow_uniform.sample(n_sample).cpu().numpy()\n",
    "    x_variational = flow_variational.sample(n_sample).cpu().numpy()\n",
    "x_data_plot = x_data.cpu()[:n_sample,:].numpy()"
   ]
  },
  {
   "cell_type": "code",
   "execution_count": 11,
   "metadata": {},
   "outputs": [
    {
     "data": {
      "image/png": "[encoded data removed]",
      "text/plain": [
       "<Figure size 432x288 with 1 Axes>"
      ]
     },
     "metadata": {
      "needs_background": "light"
     },
     "output_type": "display_data"
    }
   ],
   "source": [
    "bins = np.linspace(-0.5, drop_indices.shape[0]+0.5, drop_indices.shape[0]+2)\n",
    "plt.hist(np.sum(x_data_plot == 0, axis=1), histtype='stepfilled', edgecolor=\"black\", facecolor=\"lightgray\", bins = bins)\n",
    "plt.hist(np.sum(x_uniform == 0, axis=1), edgecolor=\"red\", histtype=\"step\", bins = bins)\n",
    "plt.hist(np.sum(x_variational == 0, axis=1), edgecolor=\"green\", histtype=\"step\", bins = bins)\n",
    "plt.show()"
   ]
  },
  {
   "cell_type": "code",
   "execution_count": 12,
   "metadata": {},
   "outputs": [
    {
     "data": {
      "image/png": "[encoded data removed]",
      "text/plain": [
       "<Figure size 432x288 with 1 Axes>"
      ]
     },
     "metadata": {
      "needs_background": "light"
     },
     "output_type": "display_data"
    }
   ],
   "source": [
    "bins = np.linspace(0, drop_indices.shape[0], 20)\n",
    "plt.hist(np.sum(x_data_plot, axis=1), histtype='stepfilled', edgecolor=\"black\", facecolor=\"lightgray\", bins = bins)\n",
    "plt.hist(np.sum(x_uniform, axis=1), edgecolor=\"red\", histtype=\"step\", bins = bins)\n",
    "plt.hist(np.sum(x_variational, axis=1), edgecolor=\"green\", histtype=\"step\", bins = bins)\n",
    "plt.show()"
   ]
  },
  {
   "cell_type": "code",
   "execution_count": 13,
   "metadata": {},
   "outputs": [
    {
     "data": {
      "image/png": "[encoded data removed]",
      "text/plain": [
       "<Figure size 432x288 with 1 Axes>"
      ]
     },
     "metadata": {
      "needs_background": "light"
     },
     "output_type": "display_data"
    }
   ],
   "source": [
    "bins = np.linspace(0, 1, 20)\n",
    "plt.hist(x_data_plot[:,2], histtype='stepfilled', edgecolor=\"black\", facecolor=\"lightgray\", bins = bins)\n",
    "plt.hist(x_uniform[:,2], edgecolor=\"red\", histtype=\"step\", bins = bins)\n",
    "plt.hist(x_variational[:,2], edgecolor=\"green\", histtype=\"step\", bins = bins)\n",
    "plt.show()"
   ]
  },
  {
   "cell_type": "code",
   "execution_count": null,
   "metadata": {},
   "outputs": [],
   "source": []
  }
 ],
 "metadata": {
  "kernelspec": {
   "display_name": "Python 3",
   "language": "python",
   "name": "python3"
  },
  "language_info": {
   "codemirror_mode": {
    "name": "ipython",
    "version": 3
   },
   "file_extension": ".py",
   "mimetype": "text/x-python",
   "name": "python",
   "nbconvert_exporter": "python",
   "pygments_lexer": "ipython3",
   "version": "3.7.7"
  }
 },
 "nbformat": 4,
 "nbformat_minor": 2
}
