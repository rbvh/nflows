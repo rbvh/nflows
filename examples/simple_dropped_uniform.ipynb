{
 "metadata": {
  "language_info": {
   "codemirror_mode": {
    "name": "ipython",
    "version": 3
   },
   "file_extension": ".py",
   "mimetype": "text/x-python",
   "name": "python",
   "nbconvert_exporter": "python",
   "pygments_lexer": "ipython3",
   "version": "3.8.4-final"
  },
  "orig_nbformat": 2,
  "kernelspec": {
   "name": "python_defaultSpec_1600777746723",
   "display_name": "Python 3.8.4 64-bit"
  }
 },
 "nbformat": 4,
 "nbformat_minor": 2,
 "cells": [
  {
   "cell_type": "code",
   "execution_count": 2,
   "metadata": {},
   "outputs": [],
   "source": [
    "import math as m\n",
    "import numpy as np\n",
    "import random as r\n",
    "import matplotlib.pyplot as plt"
   ]
  },
  {
   "cell_type": "code",
   "execution_count": 4,
   "metadata": {},
   "outputs": [],
   "source": [
    "import torch\n",
    "from torch import nn\n",
    "from torch import optim"
   ]
  },
  {
   "cell_type": "code",
   "execution_count": 6,
   "metadata": {},
   "outputs": [],
   "source": [
    "from nflows.distributions.uniform import BoxUniform\n",
    "from nflows.transforms.base import CompositeTransform\n",
    "from nflows.flows.base import Flow\n",
    "from nflows.distributions.dropout import UniformStochasticDropout\n",
    "from nflows.distributions.dropout import VariationalStochasticDropout"
   ]
  },
  {
   "cell_type": "code",
   "execution_count": 8,
   "metadata": {},
   "outputs": [],
   "source": [
    "n_probs = 5\n",
    "x_drop = torch.rand(n_probs)\n",
    "p_drop = x_drop/(torch.sum(x_drop))\n",
    "p_cum_drop = torch.cumsum(p_drop, dim=0)\n",
    "drop_indices = torch.tensor([0,0,1,1,1,2,3,3,4])"
   ]
  },
  {
   "cell_type": "code",
   "execution_count": 10,
   "metadata": {},
   "outputs": [],
   "source": [
    "def generate(n, drop_indices):\n",
    "    x = torch.rand(n, drop_indices.shape[0])\n",
    "\n",
    "    # Tensor with bools that are true when r passes the cumprob\n",
    "    larger_than_cumprob = torch.rand(n,1) < p_cum_drop\n",
    "    # Do the arange trick to find first nonzero\n",
    "    selected_index = torch.argmax(larger_than_cumprob*torch.arange(n_probs, 0, -1), axis=1)\n",
    "\n",
    "    # Get the values of the selected llhs\n",
    "    selected_probs = p_drop[selected_index]\n",
    "\n",
    "    # Find the index of the first true\n",
    "    drop_mask = drop_indices > selected_index[:,None]\n",
    "    x[drop_mask] = 0\n",
    "    \n",
    "    return x, torch.log(selected_probs)"
   ]
  },
  {
   "cell_type": "code",
   "execution_count": 12,
   "metadata": {},
   "outputs": [],
   "source": [
    "uniform_dropout = UniformStochasticDropout(drop_indices)\n",
    "variational_dropout = VariationalStochasticDropout(drop_indices)\n",
    "optimizer_uniform = torch.optim.Adam(uniform_dropout.parameters())\n",
    "optimizer_variational = torch.optim.Adam(variational_dropout.parameters())"
   ]
  },
  {
   "cell_type": "code",
   "execution_count": 14,
   "metadata": {
    "tags": []
   },
   "outputs": [
    {
     "output_type": "execute_result",
     "data": {
      "text/plain": "tensor([[0.9681, 0.4382, 0.6580, 0.4396, 0.8842, 0.0000, 0.0000, 0.0000, 0.0000],\n        [0.9657, 0.2708, 0.3083, 0.0418, 0.3040, 0.0210, 0.8117, 0.0328, 0.0000],\n        [0.0614, 0.4462, 0.8920, 0.6788, 0.5892, 0.5509, 0.8516, 0.7177, 0.3241],\n        [0.8513, 0.1258, 0.4332, 0.6951, 0.2300, 0.7434, 0.0407, 0.2823, 0.0000],\n        [0.8820, 0.8708, 0.3588, 0.1751, 0.4674, 0.5946, 0.7861, 0.1213, 0.8394],\n        [0.3350, 0.5908, 0.0000, 0.0000, 0.0000, 0.0000, 0.0000, 0.0000, 0.0000],\n        [0.0800, 0.2039, 0.0677, 0.2359, 0.2074, 0.4105, 0.3680, 0.7247, 0.4096],\n        [0.9672, 0.0722, 0.4764, 0.5729, 0.4611, 0.0871, 0.7416, 0.7464, 0.5334],\n        [0.5363, 0.6451, 0.6556, 0.2093, 0.2832, 0.8169, 0.3032, 0.1311, 0.0000],\n        [0.1538, 0.6937, 0.0000, 0.0000, 0.0000, 0.0000, 0.0000, 0.0000, 0.0000]])"
     },
     "metadata": {},
     "execution_count": 14
    }
   ],
   "source": [
    "variational_dropout.sample(10)"
   ]
  },
  {
   "cell_type": "code",
   "execution_count": 16,
   "metadata": {
    "tags": []
   },
   "outputs": [
    {
     "output_type": "stream",
     "name": "stdout",
     "text": "tensor(1.6045, grad_fn=<NegBackward>) tensor(1.6243, grad_fn=<NegBackward>)\ntensor(1.6036, grad_fn=<NegBackward>) tensor(1.6240, grad_fn=<NegBackward>)\ntensor(1.6042, grad_fn=<NegBackward>) tensor(1.6147, grad_fn=<NegBackward>)\ntensor(1.6041, grad_fn=<NegBackward>) tensor(1.6296, grad_fn=<NegBackward>)\ntensor(1.6067, grad_fn=<NegBackward>) tensor(1.6261, grad_fn=<NegBackward>)\ntensor(1.6058, grad_fn=<NegBackward>) tensor(1.6147, grad_fn=<NegBackward>)\ntensor(1.6078, grad_fn=<NegBackward>) tensor(1.6238, grad_fn=<NegBackward>)\ntensor(1.6053, grad_fn=<NegBackward>) tensor(1.6185, grad_fn=<NegBackward>)\ntensor(1.6101, grad_fn=<NegBackward>) tensor(1.6298, grad_fn=<NegBackward>)\ntensor(1.6028, grad_fn=<NegBackward>) tensor(1.6183, grad_fn=<NegBackward>)\ntensor(1.6083, grad_fn=<NegBackward>) tensor(1.6271, grad_fn=<NegBackward>)\ntensor(1.6060, grad_fn=<NegBackward>) tensor(1.6193, grad_fn=<NegBackward>)\ntensor(1.6072, grad_fn=<NegBackward>) tensor(1.6135, grad_fn=<NegBackward>)\ntensor(1.6064, grad_fn=<NegBackward>) tensor(1.6302, grad_fn=<NegBackward>)\ntensor(1.6117, grad_fn=<NegBackward>) tensor(1.6294, grad_fn=<NegBackward>)\ntensor(1.6090, grad_fn=<NegBackward>) tensor(1.6129, grad_fn=<NegBackward>)\ntensor(1.6044, grad_fn=<NegBackward>) tensor(1.6271, grad_fn=<NegBackward>)\ntensor(1.5981, grad_fn=<NegBackward>) tensor(1.6297, grad_fn=<NegBackward>)\ntensor(1.6073, grad_fn=<NegBackward>) tensor(1.6161, grad_fn=<NegBackward>)\ntensor(1.6039, grad_fn=<NegBackward>) tensor(1.6160, grad_fn=<NegBackward>)\n"
    }
   ],
   "source": [
    "n_epochs = 1000\n",
    "n_batch = 500\n",
    "for i in range(n_epochs):\n",
    "    x,llh = generate(n_batch, drop_indices)\n",
    "\n",
    "    optimizer_uniform.zero_grad()\n",
    "    optimizer_variational.zero_grad()\n",
    "\n",
    "    loss_uniform = -uniform_dropout.log_prob(x).mean()\n",
    "    loss_variational = -variational_dropout.log_prob(x).mean()\n",
    "\n",
    "    loss_uniform.backward()\n",
    "    loss_variational.backward()\n",
    "\n",
    "    optimizer_uniform.step()\n",
    "    optimizer_variational.step()\n",
    "\n",
    "    if i%50 == 0:\n",
    "        print(loss_uniform, loss_variational)"
   ]
  },
  {
   "cell_type": "code",
   "execution_count": 18,
   "metadata": {
    "tags": []
   },
   "outputs": [
    {
     "output_type": "stream",
     "name": "stdout",
     "text": "tensor([0.1870, 0.2154, 0.2140, 0.1785, 0.2154, 0.2140, 0.1785, 0.2140, 0.2140,\n        0.1785])\ntensor([0.1866, 0.2140, 0.2125, 0.1812, 0.2140, 0.2125, 0.1812, 0.2125, 0.2125,\n        0.1812], grad_fn=<ExpBackward>)\ntensor([0.1915, 0.2647, 0.2084, 0.2383, 0.1968, 0.2274, 0.2429, 0.2421, 0.1821,\n        0.2173], grad_fn=<ExpBackward>)\n"
    }
   ],
   "source": [
    "x, llh = generate(10, drop_indices)\n",
    "print(torch.exp(llh))\n",
    "print(torch.exp(uniform_dropout.log_prob(x)))\n",
    "print(torch.exp(variational_dropout.log_prob(x)))"
   ]
  },
  {
   "cell_type": "code",
   "execution_count": null,
   "metadata": {},
   "outputs": [],
   "source": []
  }
 ]
}