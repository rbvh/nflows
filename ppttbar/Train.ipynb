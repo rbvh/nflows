{
 "cells": [
  {
   "cell_type": "code",
   "execution_count": 1,
   "metadata": {},
   "outputs": [],
   "source": [
    "import math as m\n",
    "import numpy as np\n",
    "import random as r\n",
    "import matplotlib.pyplot as plt\n",
    "import sys"
   ]
  },
  {
   "cell_type": "code",
   "execution_count": 2,
   "metadata": {},
   "outputs": [],
   "source": [
    "import torch\n",
    "from torch import nn\n",
    "from torch import optim\n",
    "from torch.optim.lr_scheduler import MultiStepLR"
   ]
  },
  {
   "cell_type": "code",
   "execution_count": 3,
   "metadata": {},
   "outputs": [],
   "source": [
    "from nflows.flows.base import Flow\n",
    "from nflows.distributions.uniform import BoxUniform\n",
    "from nflows.transforms.base import CompositeTransform\n",
    "from nflows.transforms.autoregressive import MaskedPiecewiseRationalQuadraticAutoregressiveTransform\n",
    "from nflows.transforms.autoregressive import MaskedPiecewiseQuadraticAutoregressiveTransform\n",
    "from nflows.transforms.permutations import ReversePermutation\n",
    "from nflows.transforms.permutations import RandomPermutation\n",
    "from nflows.transforms.splines.rational_quadratic import rational_quadratic_spline\n",
    "from torch.utils.tensorboard import SummaryWriter"
   ]
  },
  {
   "cell_type": "code",
   "execution_count": 4,
   "metadata": {},
   "outputs": [],
   "source": [
    "import subprocess\n",
    "import time\n",
    "import os\n",
    "from copy import deepcopy\n",
    "import math as m\n",
    "import gc"
   ]
  },
  {
   "cell_type": "code",
   "execution_count": 5,
   "metadata": {},
   "outputs": [],
   "source": [
    "import numpy as np\n",
    "import pandas as pd\n",
    "import matplotlib.pyplot as plt"
   ]
  },
  {
   "cell_type": "code",
   "execution_count": 6,
   "metadata": {},
   "outputs": [],
   "source": [
    "# Tensorboard writer\n",
    "writer = SummaryWriter()"
   ]
  },
  {
   "cell_type": "code",
   "execution_count": 7,
   "metadata": {},
   "outputs": [],
   "source": [
    "device = torch.device(\"cuda:0\")\n",
    "#device = torch.device(\"cpu\")"
   ]
  },
  {
   "cell_type": "code",
   "execution_count": 8,
   "metadata": {},
   "outputs": [],
   "source": [
    "# neg run 14\n",
    "n_RQS_knots = 10   # Number of knots in RQS transform\n",
    "n_made_layers = 3  # Number of layers in every made network\n",
    "n_made_units = 500 # Number of units in every layer of the made network\n",
    "n_flow_layers = 12 # Number of layers in the flow\n",
    "\n",
    "batch_size = 1024\n",
    "n_epochs = 800\n",
    "adam_lr = 0.001   # Learning rate for the ADAM optimizer (default: 0.001)"
   ]
  },
  {
   "cell_type": "code",
   "execution_count": 9,
   "metadata": {},
   "outputs": [],
   "source": [
    "n_testing = int(3.6820486488184496*1e5)"
   ]
  },
  {
   "cell_type": "code",
   "execution_count": 10,
   "metadata": {},
   "outputs": [],
   "source": [
    "training_samples = torch.tensor(np.genfromtxt(\"neg_training_samples.csv\",\n",
    "                    delimiter=','), dtype=torch.float32, device=device)\n",
    "testing_samples = torch.tensor(np.genfromtxt(\"neg_testing_samples.csv\",\n",
    "                    delimiter=',')[:n_testing], dtype=torch.float32, device=device)"
   ]
  },
  {
   "cell_type": "code",
   "execution_count": 11,
   "metadata": {},
   "outputs": [],
   "source": [
    "training_weights = np.genfromtxt(\"neg_training_weights.csv\", delimiter=',')\n",
    "testing_weights = np.genfromtxt(\"neg_testing_weights.csv\", delimiter=',')[:n_testing]"
   ]
  },
  {
   "cell_type": "code",
   "execution_count": 12,
   "metadata": {},
   "outputs": [],
   "source": [
    "training_weights = torch.tensor(np.sign(training_weights), dtype=torch.float32, device=device)\n",
    "testing_weights = torch.tensor(np.sign(testing_weights), dtype=torch.float32, device=device)"
   ]
  },
  {
   "cell_type": "code",
   "execution_count": 13,
   "metadata": {},
   "outputs": [],
   "source": [
    "event_dim = training_samples.shape[1] # Dimensionality of data"
   ]
  },
  {
   "cell_type": "code",
   "execution_count": 14,
   "metadata": {},
   "outputs": [],
   "source": [
    "base_dist = BoxUniform(torch.zeros(event_dim), torch.ones(event_dim))\n",
    "\n",
    "transforms = []\n",
    "for _ in range(n_flow_layers):\n",
    "    transforms.append(RandomPermutation(features=event_dim))\n",
    "    transforms.append(MaskedPiecewiseRationalQuadraticAutoregressiveTransform(\n",
    "        features=event_dim, \n",
    "        hidden_features=n_made_units,\n",
    "        num_bins=n_RQS_knots,\n",
    "        num_blocks=n_made_layers-1,\n",
    "        tails=\"constrained\",\n",
    "        use_residual_blocks=False\n",
    "    ))\n",
    "transform = CompositeTransform(transforms)\n",
    "\n",
    "flow = Flow(transform, base_dist).to(device)\n",
    "optimizer = optim.Adam(flow.parameters(), lr=adam_lr)\n",
    "\n",
    "scheduler = MultiStepLR(optimizer, milestones=[350, 425, 500, 575, 650, 725, 800], gamma=0.5)"
   ]
  },
  {
   "cell_type": "code",
   "execution_count": null,
   "metadata": {},
   "outputs": [
    {
     "name": "stderr",
     "output_type": "stream",
     "text": [
      "/opt/conda/lib/python3.7/site-packages/torch/optim/lr_scheduler.py:123: UserWarning: Detected call of `lr_scheduler.step()` before `optimizer.step()`. In PyTorch 1.1.0 and later, you should call them in the opposite order: `optimizer.step()` before `lr_scheduler.step()`.  Failure to do this will result in PyTorch skipping the first value of the learning rate schedule. See more details at https://pytorch.org/docs/stable/optim.html#how-to-adjust-learning-rate\n",
      "  \"https://pytorch.org/docs/stable/optim.html#how-to-adjust-learning-rate\", UserWarning)\n"
     ]
    },
    {
     "name": "stdout",
     "output_type": "stream",
     "text": [
      "epoch =  0 batch =  1 / 3596 loss =  6.753967761993408\n",
      "epoch =  0 batch =  26 / 3596 loss =  -6.534637190544834\n",
      "epoch =  0 batch =  51 / 3596 loss =  -10.456426861604639\n",
      "epoch =  0 batch =  76 / 3596 loss =  -12.033402792962367\n",
      "epoch =  0 batch =  101 / 3596 loss =  -13.069429122759859\n",
      "epoch =  0 batch =  126 / 3596 loss =  -13.73941470626446\n",
      "epoch =  0 batch =  151 / 3596 loss =  -14.215411261340838\n",
      "epoch =  0 batch =  176 / 3596 loss =  -14.542447311740199\n",
      "epoch =  0 batch =  201 / 3596 loss =  -14.78892212433379\n",
      "epoch =  0 batch =  226 / 3596 loss =  -15.01673978997345\n",
      "epoch =  0 batch =  251 / 3596 loss =  -15.225528534264322\n",
      "epoch =  0 batch =  276 / 3596 loss =  -15.443562203194892\n",
      "epoch =  0 batch =  301 / 3596 loss =  -15.60108390090325\n",
      "epoch =  0 batch =  326 / 3596 loss =  -15.740978670689318\n",
      "epoch =  0 batch =  351 / 3596 loss =  -15.865404593352324\n",
      "epoch =  0 batch =  376 / 3596 loss =  -15.984581216585209\n",
      "epoch =  0 batch =  401 / 3596 loss =  -16.077922578213613\n",
      "epoch =  0 batch =  426 / 3596 loss =  -16.139440717595374\n",
      "epoch =  0 batch =  451 / 3596 loss =  -16.211282452869934\n",
      "epoch =  0 batch =  476 / 3596 loss =  -16.267444756641215\n",
      "epoch =  0 batch =  501 / 3596 loss =  -16.319828099870488\n",
      "epoch =  0 batch =  526 / 3596 loss =  -16.36031164034156\n",
      "epoch =  0 batch =  551 / 3596 loss =  -16.40084184604123\n",
      "epoch =  0 batch =  576 / 3596 loss =  -16.445573735393655\n",
      "epoch =  0 batch =  601 / 3596 loss =  -16.496058920884956\n",
      "epoch =  0 batch =  626 / 3596 loss =  -16.544183071268325\n",
      "epoch =  0 batch =  651 / 3596 loss =  -16.59245732580579\n",
      "epoch =  0 batch =  676 / 3596 loss =  -16.635502267722625\n",
      "epoch =  0 batch =  701 / 3596 loss =  -16.68586258867098\n",
      "epoch =  0 batch =  726 / 3596 loss =  -16.720401746700695\n",
      "epoch =  0 batch =  751 / 3596 loss =  -16.766412240871013\n",
      "epoch =  0 batch =  776 / 3596 loss =  -16.792272025647303\n",
      "epoch =  0 batch =  801 / 3596 loss =  -16.832729185886063\n",
      "epoch =  0 batch =  826 / 3596 loss =  -16.84888460895287\n",
      "epoch =  0 batch =  851 / 3596 loss =  -16.885471483957378\n",
      "epoch =  0 batch =  876 / 3596 loss =  -16.915003808006894\n",
      "epoch =  0 batch =  901 / 3596 loss =  -16.931220368878066\n",
      "epoch =  0 batch =  926 / 3596 loss =  -16.957813862224413\n",
      "epoch =  0 batch =  951 / 3596 loss =  -16.990083217013677\n",
      "epoch =  0 batch =  976 / 3596 loss =  -17.020747872546583\n"
     ]
    }
   ],
   "source": [
    "data_size = training_samples.shape[0]\n",
    "n_batches = m.ceil(data_size/batch_size)\n",
    "\n",
    "data_size_validation = testing_samples.shape[0]\n",
    "n_batches_validate = m.ceil(data_size_validation/batch_size)\n",
    "\n",
    "best_loss = np.inf\n",
    "for epoch in range(n_epochs):\n",
    "    scheduler.step()\n",
    "    \n",
    "    permutation = torch.randperm(data_size, device=device)    \n",
    "\n",
    "    # Loop over batches\n",
    "    cum_loss = 0\n",
    "    for batch in range(n_batches):\n",
    "        # Set up the batch\n",
    "        batch_begin = batch*batch_size\n",
    "        batch_end   = min( (batch+1)*batch_size, data_size-1 )\n",
    "        indices = permutation[batch_begin:batch_end]\n",
    "        samples_batch = training_samples[indices]\n",
    "        weights_batch = training_weights[indices]\n",
    "        \n",
    "        # Take a step\n",
    "        optimizer.zero_grad()\n",
    "        loss = -(flow.log_prob(inputs=samples_batch)*weights_batch).mean()\n",
    "        loss.backward()\n",
    "        optimizer.step()\n",
    "\n",
    "        # Compute cumulative loss\n",
    "        cum_loss = (cum_loss*batch + loss.item())/(batch+1)\n",
    "\n",
    "        if batch%25 == 0:\n",
    "            print(\"epoch = \", epoch, \"batch = \",batch+1, \"/\", n_batches, \"loss = \", cum_loss)\n",
    "    \n",
    "    # Compute validation loss\n",
    "    validation_loss = 0\n",
    "    for batch in range(n_batches_validate):\n",
    "        batch_begin = batch*batch_size\n",
    "        batch_end = min( (batch+1)*batch_size, data_size_validation-1 )\n",
    "        samples_batch = testing_samples[batch_begin:batch_end]\n",
    "        weights_batch = testing_weights[batch_begin:batch_end]\n",
    "    \n",
    "        with torch.no_grad():\n",
    "            validation_loss = (validation_loss*batch - (flow.log_prob(samples_batch)*weights_batch).mean())/(batch+1)\n",
    "    \n",
    "    print(\"Validation loss = \", validation_loss)\n",
    "    \n",
    "    writer.add_scalar(\"Loss_train\", cum_loss, epoch)\n",
    "    writer.add_scalar(\"Loss_test\", validation_loss, epoch)\n",
    "    \n",
    "    if validation_loss < best_loss:\n",
    "        torch.save(flow, \"flow_model.pt\")\n",
    "        best_loss = validation_loss"
   ]
  }
 ],
 "metadata": {
  "kernelspec": {
   "display_name": "Python 3",
   "language": "python",
   "name": "python3"
  },
  "language_info": {
   "codemirror_mode": {
    "name": "ipython",
    "version": 3
   },
   "file_extension": ".py",
   "mimetype": "text/x-python",
   "name": "python",
   "nbconvert_exporter": "python",
   "pygments_lexer": "ipython3",
   "version": "3.7.7"
  }
 },
 "nbformat": 4,
 "nbformat_minor": 4
}
